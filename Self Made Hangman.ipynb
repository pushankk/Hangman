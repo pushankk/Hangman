{
 "cells": [
  {
   "cell_type": "code",
   "execution_count": null,
   "id": "91ec4eeb",
   "metadata": {},
   "outputs": [],
   "source": [
    "import random\n",
    "\n",
    "dictionary_file_location = \"words_250000_train.txt\"\n",
    "\n",
    "def build_dictionary(dictionary_file_location):\n",
    "    text_file = open(dictionary_file_location,\"r\")\n",
    "    full_dictionary = text_file.read().splitlines()\n",
    "    text_file.close()\n",
    "    return full_dictionary\n",
    "\n",
    "word_dic=build_dictionary(dictionary_file_location)\n",
    "word_dic=['success']\n",
    "randomword=random.choice(word_dic)\n",
    "print('word is {} letters long'.format(len(randomword)))\n",
    "    \n",
    "def printword(guessedletters):\n",
    "    counter=0\n",
    "    rightletters=0\n",
    "    for char in randomword:\n",
    "        if (char in guessedletters):\n",
    "            print(randomword[counter], end=' ')\n",
    "            rightletters += 1\n",
    "        else:\n",
    "            print(' ', end=' ')\n",
    "        counter += 1\n",
    "    return rightletters\n",
    "\n",
    "def printlines():\n",
    "    print('\\r')\n",
    "    for char in randomword:\n",
    "        print('\\u203E', end=' ')\n",
    "        \n",
    "word_length=len(randomword)\n",
    "wrong_times=0\n",
    "current_guess_index=0\n",
    "current_letters_guessed=[]\n",
    "current_letters_right=0"
   ]
  },
  {
   "cell_type": "code",
   "execution_count": null,
   "id": "8ef7ee28",
   "metadata": {},
   "outputs": [],
   "source": [
    "while(wrong_times < 6 and current_letters_right != word_length):\n",
    "\n",
    "    letterguessed = input('\\nGuessing letter: ')\n",
    "    \n",
    "    if(randomword[current_guess_index] == letterguessed):\n",
    "        #print word\n",
    "        current_guess_index+=1\n",
    "        current_letters_guessed.append(letterguessed)\n",
    "        current_letters_right=printword(current_letters_guessed)\n",
    "        printlines()\n",
    "    else:\n",
    "        wrong_times+=1\n",
    "        current_letters_guessed.append(letterguessed)\n",
    "        current_letters_right=printword(current_letters_guessed)\n",
    "        printlines()\n",
    "    print('Tries Remaining: ', 6 - wrong_times)"
   ]
  }
 ],
 "metadata": {
  "kernelspec": {
   "display_name": "Python 3 (ipykernel)",
   "language": "python",
   "name": "python3"
  },
  "language_info": {
   "codemirror_mode": {
    "name": "ipython",
    "version": 3
   },
   "file_extension": ".py",
   "mimetype": "text/x-python",
   "name": "python",
   "nbconvert_exporter": "python",
   "pygments_lexer": "ipython3",
   "version": "3.9.13"
  }
 },
 "nbformat": 4,
 "nbformat_minor": 5
}
